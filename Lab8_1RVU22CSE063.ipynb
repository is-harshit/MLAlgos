{
  "cells": [
    {
      "cell_type": "code",
      "source": [
        "import torch\n",
        "import torch.nn as nn\n",
        "import torch.optim as optim\n",
        "import torch.nn.functional as F\n",
        "from torchvision import datasets, transforms\n",
        "from torch.utils.data import DataLoader"
      ],
      "metadata": {
        "id": "pKoPveSma__f"
      },
      "execution_count": null,
      "outputs": []
    },
    {
      "cell_type": "code",
      "source": [
        "class TeacherModel(nn.Module):\n",
        "    def __init__(self):\n",
        "        super(TeacherModel, self).__init__()\n",
        "        self.fc1 = nn.Linear(28*28, 1200)\n",
        "        self.fc2 = nn.Linear(1200, 1200)\n",
        "        self.fc3 = nn.Linear(1200, 10)\n",
        "\n",
        "    def forward(self, x):\n",
        "        x = x.view(-1, 28*28)\n",
        "        x = F.relu(self.fc1(x))\n",
        "        x = F.relu(self.fc2(x))\n",
        "        x = self.fc3(x)\n",
        "        return x"
      ],
      "metadata": {
        "id": "k4BH5HI2bCr1"
      },
      "execution_count": null,
      "outputs": []
    },
    {
      "cell_type": "code",
      "source": [
        "class StudentModel(nn.Module):\n",
        "    def __init__(self):\n",
        "        super(StudentModel, self).__init__()\n",
        "        self.fc1 = nn.Linear(28*28, 800)\n",
        "        self.fc2 = nn.Linear(800, 10)\n",
        "\n",
        "    def forward(self, x):\n",
        "        x = x.view(-1, 28*28)\n",
        "        x = F.relu(self.fc1(x))\n",
        "        x = self.fc2(x)\n",
        "        return x"
      ],
      "metadata": {
        "id": "4GhhkMWhbEpP"
      },
      "execution_count": null,
      "outputs": []
    },
    {
      "cell_type": "code",
      "source": [
        "transform = transforms.Compose([transforms.ToTensor(), transforms.Normalize((0.5,), (0.5,))])\n",
        "train_dataset = datasets.MNIST(root='./data', train=True, download=True, transform=transform)\n",
        "test_dataset = datasets.MNIST(root='./data', train=False, download=True, transform=transform)\n",
        "train_loader = DataLoader(dataset=train_dataset, batch_size=64, shuffle=True)\n",
        "test_loader = DataLoader(dataset=test_dataset, batch_size=64, shuffle=False)"
      ],
      "metadata": {
        "colab": {
          "base_uri": "https://localhost:8080/"
        },
        "id": "GzArprHybIFu",
        "outputId": "c8d7795a-dd5f-4a17-9496-b978ed04b2f4"
      },
      "execution_count": null,
      "outputs": [
        {
          "output_type": "stream",
          "name": "stderr",
          "text": [
            "100%|██████████| 9.91M/9.91M [00:00<00:00, 15.9MB/s]\n",
            "100%|██████████| 28.9k/28.9k [00:00<00:00, 482kB/s]\n",
            "100%|██████████| 1.65M/1.65M [00:00<00:00, 4.44MB/s]\n",
            "100%|██████████| 4.54k/4.54k [00:00<00:00, 8.61MB/s]\n"
          ]
        }
      ]
    },
    {
      "cell_type": "code",
      "source": [
        "def distillation_loss(student_logits, teacher_logits, labels, temperature, alpha):\n",
        "    soft_teacher = F.softmax(teacher_logits / temperature, dim=1)\n",
        "    soft_student = F.log_softmax(student_logits / temperature, dim=1)\n",
        "    kl_div = F.kl_div(soft_student, soft_teacher) * (temperature ** 2)\n",
        "    ce_loss = F.cross_entropy(student_logits, labels)\n",
        "    return alpha * kl_div + (1 - alpha) * ce_loss"
      ],
      "metadata": {
        "id": "pyvMKTYHbKZJ"
      },
      "execution_count": null,
      "outputs": []
    },
    {
      "cell_type": "code",
      "source": [
        "teacher = TeacherModel()\n",
        "optimizer = optim.Adam(teacher.parameters(), lr=0.001)\n",
        "criterion = nn.CrossEntropyLoss()"
      ],
      "metadata": {
        "id": "ihjNAuYHbOuQ"
      },
      "execution_count": null,
      "outputs": []
    },
    {
      "cell_type": "code",
      "source": [
        "def train_teacher(model, train_loader, optimizer, criterion, epochs=5):\n",
        "    model.train()\n",
        "    for epoch in range(epochs):\n",
        "        for data, target in train_loader:\n",
        "            optimizer.zero_grad()\n",
        "            output = model(data)\n",
        "            loss = criterion(output, target)\n",
        "            loss.backward()\n",
        "            optimizer.step()\n",
        "        print(f\"Teacher Epoch {epoch+1}/{epochs}, Loss: {loss.item()}\")\n",
        "\n",
        "train_teacher(teacher, train_loader, optimizer, criterion)"
      ],
      "metadata": {
        "colab": {
          "base_uri": "https://localhost:8080/"
        },
        "id": "oXiVzTkbbm9K",
        "outputId": "0e811e6a-434c-48b1-8c8a-f60b8516b285"
      },
      "execution_count": null,
      "outputs": [
        {
          "output_type": "stream",
          "name": "stdout",
          "text": [
            "Teacher Epoch 1/5, Loss: 0.37424013018608093\n",
            "Teacher Epoch 2/5, Loss: 0.04357856512069702\n",
            "Teacher Epoch 3/5, Loss: 0.11834566295146942\n",
            "Teacher Epoch 4/5, Loss: 0.09450435638427734\n",
            "Teacher Epoch 5/5, Loss: 0.03202516585588455\n"
          ]
        }
      ]
    },
    {
      "cell_type": "code",
      "source": [
        "student = StudentModel()\n",
        "optimizer = optim.Adam(student.parameters(), lr=0.001)\n",
        "\n",
        "def train_student(student, teacher, train_loader, optimizer, temperature=5.0, alpha=0.7, epochs=5):\n",
        "    student.train()\n",
        "    teacher.eval()\n",
        "    for epoch in range(epochs):\n",
        "        for data, target in train_loader:\n",
        "            optimizer.zero_grad()\n",
        "            student_logits = student(data)\n",
        "            with torch.no_grad():\n",
        "                teacher_logits = teacher(data)\n",
        "            loss = distillation_loss(student_logits, teacher_logits, target, temperature, alpha)\n",
        "            loss.backward()\n",
        "            optimizer.step()\n",
        "        print(f\"Student Epoch {epoch+1}/{epochs}, Loss: {loss.item()}\")\n",
        "\n",
        "train_student(student, teacher, train_loader, optimizer)"
      ],
      "metadata": {
        "colab": {
          "base_uri": "https://localhost:8080/"
        },
        "id": "jWDM0KZCbvYJ",
        "outputId": "f59e740c-59ad-4af6-be0b-ef5224967df9"
      },
      "execution_count": null,
      "outputs": [
        {
          "output_type": "stream",
          "name": "stderr",
          "text": [
            "/usr/local/lib/python3.11/dist-packages/torch/nn/functional.py:3384: UserWarning: reduction: 'mean' divides the total loss by both the batch size and the support size.'batchmean' divides only by the batch size, and aligns with the KL div math definition.'mean' will be changed to behave the same as 'batchmean' in the next major release.\n",
            "  warnings.warn(\n"
          ]
        },
        {
          "output_type": "stream",
          "name": "stdout",
          "text": [
            "Student Epoch 1/5, Loss: 0.1105426773428917\n",
            "Student Epoch 2/5, Loss: 0.0646306574344635\n",
            "Student Epoch 3/5, Loss: 0.07611769437789917\n",
            "Student Epoch 4/5, Loss: 0.10172846913337708\n",
            "Student Epoch 5/5, Loss: 0.05032118037343025\n"
          ]
        }
      ]
    },
    {
      "cell_type": "code",
      "source": [
        "def evaluate(model, test_loader):\n",
        "    model.eval()\n",
        "    correct = 0\n",
        "    total = 0\n",
        "    with torch.no_grad():\n",
        "        for data, target in test_loader:\n",
        "            output = model(data)\n",
        "            _, predicted = torch.max(output.data, 1)\n",
        "            total += target.size(0)\n",
        "            correct += (predicted == target).sum().item()\n",
        "    accuracy = 100 * correct / total\n",
        "    return accuracy\n",
        "\n",
        "\n",
        "\n",
        "\n",
        "def count_parameters(model):\n",
        "    return sum(p.numel() for p in model.parameters())"
      ],
      "metadata": {
        "id": "WtVLugy9cbrp"
      },
      "execution_count": null,
      "outputs": []
    },
    {
      "cell_type": "code",
      "source": [
        "teacher_params = count_parameters(teacher)\n",
        "student_params = count_parameters(student)\n",
        "\n",
        "teacher_accuracy = evaluate(teacher, test_loader)\n",
        "student_accuracy = evaluate(student, test_loader)\n",
        "\n",
        "print(f\"Teacher Model Parameters: {teacher_params}\")\n",
        "print(f\"Student Model Parameters: {student_params}\")\n",
        "\n",
        "print(f\"Teacher Accuracy: {teacher_accuracy:.2f}%, Parameters: {teacher_params}\")\n",
        "print(f\"Student Accuracy: {student_accuracy:.2f}%, Parameters: {student_params}\")"
      ],
      "metadata": {
        "colab": {
          "base_uri": "https://localhost:8080/"
        },
        "id": "wEpCrERMcdao",
        "outputId": "2c08803a-1456-4cb9-aa33-b1418489de10"
      },
      "execution_count": null,
      "outputs": [
        {
          "output_type": "stream",
          "name": "stdout",
          "text": [
            "Teacher Model Parameters: 2395210\n",
            "Student Model Parameters: 636010\n",
            "Teacher Accuracy: 97.07%, Parameters: 2395210\n",
            "Student Accuracy: 97.53%, Parameters: 636010\n"
          ]
        }
      ]
    }
  ],
  "metadata": {
    "kernelspec": {
      "display_name": "Python 3",
      "name": "python3"
    },
    "language_info": {
      "codemirror_mode": {
        "name": "ipython",
        "version": 3
      },
      "file_extension": ".py",
      "mimetype": "text/x-python",
      "name": "python",
      "nbconvert_exporter": "python",
      "pygments_lexer": "ipython3",
      "version": "3.10.12"
    },
    "colab": {
      "provenance": [],
      "gpuType": "T4"
    },
    "accelerator": "GPU"
  },
  "nbformat": 4,
  "nbformat_minor": 0
}